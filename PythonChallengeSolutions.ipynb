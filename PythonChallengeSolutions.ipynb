{
 "cells": [
  {
   "cell_type": "markdown",
   "id": "e4b5c0d3",
   "metadata": {},
   "source": [
    "# Python Challenge Solutions\n",
    "Solutions to Python Challenge problems in Python3.  \n",
    "Link here: http://www.pythonchallenge.com/"
   ]
  },
  {
   "cell_type": "markdown",
   "id": "e8b28500",
   "metadata": {},
   "source": [
    "## Level 0"
   ]
  },
  {
   "cell_type": "markdown",
   "id": "2e621ce8",
   "metadata": {},
   "source": [
    "### Setup"
   ]
  },
  {
   "cell_type": "code",
   "execution_count": null,
   "id": "847ba62a",
   "metadata": {},
   "outputs": [],
   "source": [
    "start_url = 'http://www.pythonchallenge.com/pc/def/0.html'"
   ]
  },
  {
   "cell_type": "code",
   "execution_count": null,
   "id": "37793507",
   "metadata": {},
   "outputs": [],
   "source": [
    "import urllib.parse\n",
    "import requests\n",
    "from bs4 import BeautifulSoup"
   ]
  },
  {
   "cell_type": "code",
   "execution_count": null,
   "id": "acb29b2a",
   "metadata": {},
   "outputs": [],
   "source": [
    "r = requests.get(start_url)\n",
    "soup = BeautifulSoup(r.text, 'html.parser')\n",
    "title = soup.find('title').get_text().strip()\n",
    "print(\"Title:\", title)"
   ]
  },
  {
   "cell_type": "markdown",
   "id": "376106db",
   "metadata": {},
   "source": [
    "### Solution"
   ]
  },
  {
   "cell_type": "markdown",
   "id": "378f0a0e",
   "metadata": {},
   "source": [
    "#### Hint"
   ]
  },
  {
   "cell_type": "code",
   "execution_count": null,
   "id": "50a5d75c",
   "metadata": {},
   "outputs": [],
   "source": [
    "import IPython.display as display"
   ]
  },
  {
   "cell_type": "code",
   "execution_count": null,
   "id": "9bb0474a",
   "metadata": {},
   "outputs": [],
   "source": [
    "img_url = urllib.parse.urljoin(start_url, soup.find('img')['src'])\n",
    "display.Image(img_url)"
   ]
  },
  {
   "cell_type": "markdown",
   "id": "abe47442",
   "metadata": {},
   "source": [
    "#### Solving"
   ]
  },
  {
   "cell_type": "markdown",
   "id": "e6901320",
   "metadata": {},
   "source": [
    "Simply evaluate the expression in the picture (`2**38` which is `274877906944`) and go the html page of the same name."
   ]
  },
  {
   "cell_type": "code",
   "execution_count": null,
   "id": "70a5e03a",
   "metadata": {},
   "outputs": [],
   "source": [
    "solution = 2**38\n",
    "print(\"Solution:\", solution)"
   ]
  },
  {
   "cell_type": "code",
   "execution_count": null,
   "id": "edb6ced9",
   "metadata": {},
   "outputs": [],
   "source": [
    "solution_url = urllib.parse.urljoin(start_url, f\"{solution}.html\")\n",
    "print(\"Solution URL:\", solution_url)"
   ]
  },
  {
   "cell_type": "markdown",
   "id": "01fb3b7f",
   "metadata": {},
   "source": [
    "## Level 1"
   ]
  },
  {
   "cell_type": "markdown",
   "id": "3cca9328",
   "metadata": {},
   "source": [
    "### Setup"
   ]
  },
  {
   "cell_type": "code",
   "execution_count": null,
   "id": "26f296bc",
   "metadata": {},
   "outputs": [],
   "source": [
    "# previous URL soltion (http://www.pythonchallenge.com/pc/def/274877906944.html) redirects here\n",
    "start_url = 'http://www.pythonchallenge.com/pc/def/map.html'"
   ]
  },
  {
   "cell_type": "code",
   "execution_count": null,
   "id": "d061713c",
   "metadata": {},
   "outputs": [],
   "source": [
    "import urllib.parse\n",
    "import requests\n",
    "from bs4 import BeautifulSoup"
   ]
  },
  {
   "cell_type": "code",
   "execution_count": null,
   "id": "e45981a7",
   "metadata": {},
   "outputs": [],
   "source": [
    "r = requests.get(start_url)\n",
    "soup = BeautifulSoup(r.text, 'html.parser')\n",
    "title = soup.find('title').get_text().strip()\n",
    "print(\"Title:\", title)"
   ]
  },
  {
   "cell_type": "markdown",
   "id": "03d41661",
   "metadata": {},
   "source": [
    "### Solution"
   ]
  },
  {
   "cell_type": "markdown",
   "id": "fc999d0c",
   "metadata": {},
   "source": [
    "#### Hint"
   ]
  },
  {
   "cell_type": "code",
   "execution_count": null,
   "id": "40f0ac26",
   "metadata": {},
   "outputs": [],
   "source": [
    "import IPython.display as display"
   ]
  },
  {
   "cell_type": "code",
   "execution_count": null,
   "id": "7c249437",
   "metadata": {},
   "outputs": [],
   "source": [
    "img_url = urllib.parse.urljoin(start_url, soup.find('img')['src'])\n",
    "display.Image(img_url)"
   ]
  },
  {
   "cell_type": "code",
   "execution_count": null,
   "id": "86a3fa86",
   "metadata": {},
   "outputs": [],
   "source": [
    "hint_text = soup.find('font', attrs={'color':'gold'}).get_text().strip()\n",
    "print(hint_text)"
   ]
  },
  {
   "cell_type": "markdown",
   "id": "33f830ad",
   "metadata": {},
   "source": [
    "#### Solving"
   ]
  },
  {
   "cell_type": "markdown",
   "id": "f81e03ae",
   "metadata": {},
   "source": [
    "The image shows a mapping of a few letters in a rot2 ciper, and the text hint says \"think twice\".  \n",
    "Let's apply the rot2 cipher to the cipher text we see.  \n",
    "I use direct `ord` and `chr` math instead of bothering with `maketrans` as the hints suggest."
   ]
  },
  {
   "cell_type": "code",
   "execution_count": null,
   "id": "c2d42a22",
   "metadata": {},
   "outputs": [],
   "source": [
    "cipher_tag = soup.find('font', attrs={'color':'#f000f0'})\n",
    "cipher_text = cipher_tag.get_text().strip()\n",
    "ord_a = ord('a')\n",
    "decipher = lambda s: ''.join(chr((ord(c)-ord_a+2)%26+ord_a) if 0<=ord(c)-ord_a<26 else c for c in s)\n",
    "clear_text = decipher(cipher_text)\n",
    "print(\"Cipher text:\", clear_text)"
   ]
  },
  {
   "cell_type": "markdown",
   "id": "5d5875d6",
   "metadata": {},
   "source": [
    " Applying the rot2 cipher to the url's stem we find the next url to go to."
   ]
  },
  {
   "cell_type": "code",
   "execution_count": null,
   "id": "aa2ccca7",
   "metadata": {},
   "outputs": [],
   "source": [
    "from pathlib import Path\n",
    "cipher_text = Path(start_url).stem\n",
    "solution = decipher(cipher_text)\n",
    "print(\"Solution:\", solution)"
   ]
  },
  {
   "cell_type": "code",
   "execution_count": null,
   "id": "7a030e09",
   "metadata": {},
   "outputs": [],
   "source": [
    "solution_url = urllib.parse.urljoin(start_url, f\"{solution}.html\")\n",
    "print(\"Solution URL:\", solution_url)"
   ]
  },
  {
   "cell_type": "markdown",
   "id": "b670adf5",
   "metadata": {},
   "source": [
    "## Level 2"
   ]
  },
  {
   "cell_type": "markdown",
   "id": "94358bc8",
   "metadata": {},
   "source": [
    "### Setup"
   ]
  },
  {
   "cell_type": "code",
   "execution_count": null,
   "id": "a5f4bf1f",
   "metadata": {},
   "outputs": [],
   "source": [
    "start_url = 'http://www.pythonchallenge.com/pc/def/ocr.html'"
   ]
  },
  {
   "cell_type": "code",
   "execution_count": null,
   "id": "79401a42",
   "metadata": {},
   "outputs": [],
   "source": [
    "import urllib.parse\n",
    "import requests\n",
    "from bs4 import BeautifulSoup, Comment"
   ]
  },
  {
   "cell_type": "code",
   "execution_count": null,
   "id": "bf22b643",
   "metadata": {},
   "outputs": [],
   "source": [
    "r = requests.get(start_url)\n",
    "soup = BeautifulSoup(r.text, 'html.parser')\n",
    "title = soup.find('title').get_text().strip()\n",
    "print(\"Title:\", title)"
   ]
  },
  {
   "cell_type": "markdown",
   "id": "9761f1de",
   "metadata": {},
   "source": [
    "### Solution"
   ]
  },
  {
   "cell_type": "markdown",
   "id": "bb1cab29",
   "metadata": {},
   "source": [
    "Like the hint says, look at the page source, and inside we see comments with ciphertext and another hint suggesting to look for rare characters.  \n",
    "Using Python's `collections.Counter` class we can filer out characters at least as common as the newlines, to get the final result of `\"equality\"`."
   ]
  },
  {
   "cell_type": "code",
   "execution_count": null,
   "id": "3d3c9757",
   "metadata": {},
   "outputs": [],
   "source": [
    "cipher_tag = soup.findAll(text=lambda text:isinstance(text, Comment))[-1]\n",
    "cipher_text = cipher_tag.extract()"
   ]
  },
  {
   "cell_type": "code",
   "execution_count": null,
   "id": "bbfa6f5a",
   "metadata": {},
   "outputs": [],
   "source": [
    "from collections import Counter\n",
    "counts = Counter(cipher_text)\n",
    "solution = ''.join(c for c in cipher_text if counts[c]<counts['\\n'])\n",
    "print(\"Solution:\", solution)"
   ]
  },
  {
   "cell_type": "code",
   "execution_count": null,
   "id": "d4ac8bab",
   "metadata": {},
   "outputs": [],
   "source": [
    "solution_url = urllib.parse.urljoin(start_url, f\"{solution}.html\")\n",
    "print(\"Solution URL:\", solution_url)"
   ]
  },
  {
   "cell_type": "markdown",
   "id": "ea3969b8",
   "metadata": {},
   "source": [
    "## Level 3"
   ]
  },
  {
   "cell_type": "markdown",
   "id": "7cd69836",
   "metadata": {},
   "source": [
    "### Setup"
   ]
  },
  {
   "cell_type": "code",
   "execution_count": null,
   "id": "c4577e4b",
   "metadata": {},
   "outputs": [],
   "source": [
    "start_url = 'http://www.pythonchallenge.com/pc/def/equality.html'"
   ]
  },
  {
   "cell_type": "code",
   "execution_count": null,
   "id": "ea4bc961",
   "metadata": {},
   "outputs": [],
   "source": [
    "import urllib.parse\n",
    "import requests\n",
    "from bs4 import BeautifulSoup, Comment"
   ]
  },
  {
   "cell_type": "code",
   "execution_count": null,
   "id": "09e14ec8",
   "metadata": {},
   "outputs": [],
   "source": [
    "r = requests.get(start_url)\n",
    "soup = BeautifulSoup(r.text, 'html.parser')\n",
    "title = soup.find('title').get_text().strip()\n",
    "print(\"Title:\", title)"
   ]
  },
  {
   "cell_type": "markdown",
   "id": "05e800e5",
   "metadata": {},
   "source": [
    "### Solution"
   ]
  },
  {
   "cell_type": "markdown",
   "id": "21550ab0",
   "metadata": {},
   "source": [
    "As the hint says, we're looking for examples of lowercase letters surrounded by exactly 3 upper-case letters in the ciphertext in the comments.  \n",
    "As the title hints at, we can use Python's `re` library to do this.  \n",
    "Watch out for the cases of more than 3 upper-case letters present."
   ]
  },
  {
   "cell_type": "code",
   "execution_count": null,
   "id": "49cc2234",
   "metadata": {},
   "outputs": [],
   "source": [
    "cipher_tag = soup.findAll(text=lambda text:isinstance(text, Comment))[-1]\n",
    "cipher_text = cipher_tag.extract().replace('\\n','')"
   ]
  },
  {
   "cell_type": "code",
   "execution_count": null,
   "id": "40c1becd",
   "metadata": {},
   "outputs": [],
   "source": [
    "import re\n",
    "re_expr = r'[a-z][A-Z]{3}([a-z])[A-Z]{3}[a-z]'\n",
    "solution = ''.join(re.findall(re_expr, cipher_text))\n",
    "print(\"Solution:\", solution)"
   ]
  },
  {
   "cell_type": "code",
   "execution_count": null,
   "id": "6c665acc",
   "metadata": {},
   "outputs": [],
   "source": [
    "solution_url = urllib.parse.urljoin(start_url, f\"{solution}.html\")\n",
    "print(\"Solution URL:\", solution_url)"
   ]
  },
  {
   "cell_type": "markdown",
   "id": "20a750cb",
   "metadata": {},
   "source": [
    "## Level 4"
   ]
  },
  {
   "cell_type": "markdown",
   "id": "b7b003fa",
   "metadata": {},
   "source": [
    "### Setup"
   ]
  },
  {
   "cell_type": "code",
   "execution_count": null,
   "id": "17fec967",
   "metadata": {},
   "outputs": [],
   "source": [
    "start_url = 'http://www.pythonchallenge.com/pc/def/linkedlist.html'"
   ]
  },
  {
   "cell_type": "code",
   "execution_count": null,
   "id": "595252bd",
   "metadata": {},
   "outputs": [],
   "source": [
    "import urllib.parse\n",
    "import requests\n",
    "from bs4 import BeautifulSoup, Comment"
   ]
  },
  {
   "cell_type": "code",
   "execution_count": null,
   "id": "4d38e88b",
   "metadata": {},
   "outputs": [],
   "source": [
    "r = requests.get(start_url)\n",
    "print(r.text.strip())\n",
    "next_url = urllib.parse.urljoin(start_url, r.text)\n",
    "print(next_url)"
   ]
  },
  {
   "cell_type": "code",
   "execution_count": null,
   "id": "87887553",
   "metadata": {},
   "outputs": [],
   "source": [
    "r = requests.get(next_url)\n",
    "soup = BeautifulSoup(r.text, 'html.parser')\n",
    "title = soup.find('title').get_text().strip()\n",
    "print(\"Title:\", title)"
   ]
  },
  {
   "cell_type": "markdown",
   "id": "c3cd6a35",
   "metadata": {},
   "source": [
    "### Solution"
   ]
  },
  {
   "cell_type": "markdown",
   "id": "63769583",
   "metadata": {},
   "source": [
    "When we click the link in the page we arrive at a page with a url parameter \"nothing=12345\" which tells us the \"next nothing\" (44827).  \n",
    "Inserting this value as the url parameter brings us to a new page giving yet another value.  \n",
    "Follow the chain as the title suggests, accounting for a few special cases they throw in."
   ]
  },
  {
   "cell_type": "code",
   "execution_count": null,
   "id": "fcf930ac",
   "metadata": {},
   "outputs": [],
   "source": [
    "next_url = urllib.parse.urljoin(start_url, soup.find('a')['href'])\n",
    "print(next_url)"
   ]
  },
  {
   "cell_type": "code",
   "execution_count": null,
   "id": "ce8db8df",
   "metadata": {
    "scrolled": true
   },
   "outputs": [],
   "source": [
    "nothing = ''\n",
    "for i in range(400):\n",
    "    r = requests.get(next_url, params={'nothing': nothing} if nothing else {}) \n",
    "    print(r.text)\n",
    "    if r.text.strip() == 'Yes. Divide by two and keep going.':\n",
    "        nothing = str(int(nothing)//2)\n",
    "    elif r.text.endswith('.html'):\n",
    "        solution = r.text\n",
    "        break\n",
    "    else:\n",
    "        nothing = r.text.strip().split(' ')[-1]\n",
    "    print(f\"\\tnothing={nothing}\")"
   ]
  },
  {
   "cell_type": "code",
   "execution_count": null,
   "id": "af265ae4",
   "metadata": {},
   "outputs": [],
   "source": [
    "print(\"Solution:\", solution)"
   ]
  },
  {
   "cell_type": "code",
   "execution_count": null,
   "id": "7b816890",
   "metadata": {},
   "outputs": [],
   "source": [
    "solution_url = urllib.parse.urljoin(start_url, solution)\n",
    "print(\"Solution URL:\", solution_url)"
   ]
  },
  {
   "cell_type": "markdown",
   "id": "428901ce",
   "metadata": {},
   "source": [
    "## Level 5"
   ]
  },
  {
   "cell_type": "markdown",
   "id": "6eec362c",
   "metadata": {},
   "source": [
    "### Setup"
   ]
  },
  {
   "cell_type": "code",
   "execution_count": null,
   "id": "6c68e151",
   "metadata": {},
   "outputs": [],
   "source": [
    "start_url = 'http://www.pythonchallenge.com/pc/def/peak.html'"
   ]
  },
  {
   "cell_type": "code",
   "execution_count": null,
   "id": "6f628d03",
   "metadata": {},
   "outputs": [],
   "source": [
    "import urllib.parse\n",
    "import requests\n",
    "from bs4 import BeautifulSoup"
   ]
  },
  {
   "cell_type": "code",
   "execution_count": null,
   "id": "3b8e1ae0",
   "metadata": {},
   "outputs": [],
   "source": [
    "r = requests.get(start_url)\n",
    "soup = BeautifulSoup(r.text, 'html.parser')\n",
    "title = soup.find('title').get_text().strip()\n",
    "print(\"Title:\", title)"
   ]
  },
  {
   "cell_type": "markdown",
   "id": "bce797eb",
   "metadata": {},
   "source": [
    "### Solution\n",
    "There is a `peakhell` tag with a src attribute linking to a .p file.  \n",
    "In Python .p files are often used for Pickle files, Python's object serialization format.  \n",
    "If we \"unpickle\" the file we can an array of arrays of tuples, each tuple containing a character and an integer.  \n",
    "Python allows for repeating strings by mutiplying them by an integer, so if we try that and join the strings all together we get an ascii art image showing our solution."
   ]
  },
  {
   "cell_type": "code",
   "execution_count": null,
   "id": "b13b8cff",
   "metadata": {},
   "outputs": [],
   "source": [
    "next_url = urllib.parse.urljoin(start_url, soup.find('peakhell')['src'])\n",
    "print(next_url)"
   ]
  },
  {
   "cell_type": "code",
   "execution_count": null,
   "id": "a66bd425",
   "metadata": {},
   "outputs": [],
   "source": [
    "import pickle"
   ]
  },
  {
   "cell_type": "code",
   "execution_count": null,
   "id": "9080d1d7",
   "metadata": {},
   "outputs": [],
   "source": [
    "r = requests.get(next_url)\n",
    "p = pickle.loads(r.content)\n",
    "p"
   ]
  },
  {
   "cell_type": "code",
   "execution_count": null,
   "id": "87c5c7e8",
   "metadata": {},
   "outputs": [],
   "source": [
    "text = '\\n'.join([''.join(c[0]*c[1] for c in l) for l in p])\n",
    "print(text)"
   ]
  },
  {
   "cell_type": "code",
   "execution_count": null,
   "id": "ff2031a6",
   "metadata": {},
   "outputs": [],
   "source": [
    "solution = 'channel'\n",
    "print(\"Solution:\", solution)"
   ]
  },
  {
   "cell_type": "code",
   "execution_count": null,
   "id": "5f8cd87b",
   "metadata": {},
   "outputs": [],
   "source": [
    "solution_url = urllib.parse.urljoin(start_url, f\"{solution}.html\")\n",
    "print(\"Solution URL:\", solution_url)"
   ]
  },
  {
   "cell_type": "markdown",
   "id": "7df90642",
   "metadata": {},
   "source": [
    "## Level 6"
   ]
  },
  {
   "cell_type": "markdown",
   "id": "274345ac",
   "metadata": {},
   "source": [
    "### Setup"
   ]
  },
  {
   "cell_type": "code",
   "execution_count": null,
   "id": "d3885cad",
   "metadata": {},
   "outputs": [],
   "source": [
    "start_url = 'http://www.pythonchallenge.com/pc/def/channel.html'"
   ]
  },
  {
   "cell_type": "code",
   "execution_count": null,
   "id": "c12dd9f1",
   "metadata": {},
   "outputs": [],
   "source": [
    "import urllib.parse\n",
    "import requests\n",
    "from bs4 import BeautifulSoup"
   ]
  },
  {
   "cell_type": "code",
   "execution_count": null,
   "id": "e86300e2",
   "metadata": {},
   "outputs": [],
   "source": [
    "r = requests.get(start_url)\n",
    "soup = BeautifulSoup(r.text, 'html.parser')\n",
    "title = soup.find('title').get_text().strip()\n",
    "print(\"Title:\", title)"
   ]
  },
  {
   "cell_type": "markdown",
   "id": "a1c8d3f7",
   "metadata": {},
   "source": [
    "### Solution\n",
    "The image of a zipper and the comment `<-- zip` implies we'll be looking a .zip files. So start off by changing the page extension to .zip to download the zip file.  \n",
    "Next use Pyhton's `zipfile` library to explore its contents.  \n",
    "It contains a a readme.txt, so reading that gives us a number to start with, which matches 1 of the other .txt files.  \n",
    "Opening this file gives a \"next nothing\" similar to the Level 4.  \n",
    "Follow the sequence until we get a file telling us \"Collect the comments\".  \n",
    "Taking the zip format's comment for each internal file gives in the same sequence we just proceeded in gives an ascii art saying \"hockey\" but using the letters \"oxygen\" which is our answer."
   ]
  },
  {
   "cell_type": "code",
   "execution_count": null,
   "id": "af9a91a5",
   "metadata": {},
   "outputs": [],
   "source": [
    "from pathlib import Path"
   ]
  },
  {
   "cell_type": "code",
   "execution_count": null,
   "id": "99e856ec",
   "metadata": {},
   "outputs": [],
   "source": [
    "stem = Path(start_url).stem\n",
    "filename = stem + \".zip\"\n",
    "new_url = urllib.parse.urljoin(start_url, filename)\n",
    "print(new_url)"
   ]
  },
  {
   "cell_type": "code",
   "execution_count": null,
   "id": "39c328c4",
   "metadata": {},
   "outputs": [],
   "source": [
    "import zipfile\n",
    "import io"
   ]
  },
  {
   "cell_type": "code",
   "execution_count": null,
   "id": "2faa1905",
   "metadata": {},
   "outputs": [],
   "source": [
    "r = requests.get(new_url)\n",
    "archive = zipfile.ZipFile(io.BytesIO(r.content), 'r')\n",
    "archive.namelist()"
   ]
  },
  {
   "cell_type": "code",
   "execution_count": null,
   "id": "89f796db",
   "metadata": {},
   "outputs": [],
   "source": [
    "with archive.open('readme.txt', mode='r') as f:\n",
    "    text = f.read().decode()\n",
    "print(text)"
   ]
  },
  {
   "cell_type": "code",
   "execution_count": null,
   "id": "f7b47d85",
   "metadata": {},
   "outputs": [],
   "source": [
    "nothing = text.splitlines()[-2].split(' ')[-1]\n",
    "print(f\"nothing={nothing}\")"
   ]
  },
  {
   "cell_type": "code",
   "execution_count": null,
   "id": "3a44c0a0",
   "metadata": {},
   "outputs": [],
   "source": [
    "nothings = [nothing]\n",
    "for i in range(len(archive.namelist())):\n",
    "    with archive.open(nothing + '.txt', mode='r') as f:\n",
    "        text = f.read().decode()\n",
    "    print(text)\n",
    "    nothing = text.split(' ')[-1]\n",
    "    if not nothing.isnumeric():\n",
    "        break\n",
    "    nothings.append(nothing)"
   ]
  },
  {
   "cell_type": "code",
   "execution_count": null,
   "id": "016fa023",
   "metadata": {},
   "outputs": [],
   "source": [
    "comments = [archive.getinfo(f\"{nothing}.txt\").comment.decode() for nothing in nothings]\n",
    "comments = ''.join(comments)\n",
    "print(comments)"
   ]
  },
  {
   "cell_type": "code",
   "execution_count": null,
   "id": "a2be6531",
   "metadata": {},
   "outputs": [],
   "source": [
    "wrong_solution = \"hockey\"\n",
    "wrong_solution_url = urllib.parse.urljoin(start_url, f\"{wrong_solution}.html\")\n",
    "print(wrong_solution_url)"
   ]
  },
  {
   "cell_type": "code",
   "execution_count": null,
   "id": "136d63a2",
   "metadata": {},
   "outputs": [],
   "source": [
    "found = set()\n",
    "solution = ''.join([c for c in comments if c.isalpha() and c not in found and (found.add(c) or True)]).lower()"
   ]
  },
  {
   "cell_type": "code",
   "execution_count": null,
   "id": "cf13399a",
   "metadata": {},
   "outputs": [],
   "source": [
    "solution_url = urllib.parse.urljoin(start_url, f\"{solution}.html\")\n",
    "print(solution_url)"
   ]
  },
  {
   "cell_type": "code",
   "execution_count": null,
   "id": "c2b1ecfd",
   "metadata": {},
   "outputs": [],
   "source": []
  }
 ],
 "metadata": {
  "kernelspec": {
   "display_name": "Python 3",
   "language": "python",
   "name": "python3"
  },
  "language_info": {
   "codemirror_mode": {
    "name": "ipython",
    "version": 3
   },
   "file_extension": ".py",
   "mimetype": "text/x-python",
   "name": "python",
   "nbconvert_exporter": "python",
   "pygments_lexer": "ipython3",
   "version": "3.11.4"
  }
 },
 "nbformat": 4,
 "nbformat_minor": 5
}
