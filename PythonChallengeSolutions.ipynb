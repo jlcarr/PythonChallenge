{
 "cells": [
  {
   "cell_type": "markdown",
   "id": "e4b5c0d3",
   "metadata": {},
   "source": [
    "# Python Challenge Solutions\n",
    "Solutions to Python Challenge problems in Python3.  \n",
    "Link here: http://www.pythonchallenge.com/"
   ]
  },
  {
   "cell_type": "markdown",
   "id": "e8b28500",
   "metadata": {},
   "source": [
    "## Level 0"
   ]
  },
  {
   "cell_type": "markdown",
   "id": "2e621ce8",
   "metadata": {},
   "source": [
    "### Setup"
   ]
  },
  {
   "cell_type": "code",
   "execution_count": null,
   "id": "847ba62a",
   "metadata": {},
   "outputs": [],
   "source": [
    "start_url = 'http://www.pythonchallenge.com/pc/def/0.html'"
   ]
  },
  {
   "cell_type": "code",
   "execution_count": null,
   "id": "37793507",
   "metadata": {},
   "outputs": [],
   "source": [
    "import urllib.parse\n",
    "import requests\n",
    "from bs4 import BeautifulSoup"
   ]
  },
  {
   "cell_type": "code",
   "execution_count": null,
   "id": "acb29b2a",
   "metadata": {},
   "outputs": [],
   "source": [
    "r = requests.get(start_url)\n",
    "soup = BeautifulSoup(r.text, 'html.parser')\n",
    "title = soup.find('title').get_text().strip()\n",
    "print(\"Title:\", title)"
   ]
  },
  {
   "cell_type": "markdown",
   "id": "376106db",
   "metadata": {},
   "source": [
    "### Solution"
   ]
  },
  {
   "cell_type": "markdown",
   "id": "378f0a0e",
   "metadata": {},
   "source": [
    "#### Hint"
   ]
  },
  {
   "cell_type": "code",
   "execution_count": null,
   "id": "50a5d75c",
   "metadata": {},
   "outputs": [],
   "source": [
    "import IPython.display as display"
   ]
  },
  {
   "cell_type": "code",
   "execution_count": null,
   "id": "9bb0474a",
   "metadata": {},
   "outputs": [],
   "source": [
    "img_url = urllib.parse.urljoin(start_url, soup.find('img')['src'])\n",
    "display.Image(img_url)"
   ]
  },
  {
   "cell_type": "markdown",
   "id": "abe47442",
   "metadata": {},
   "source": [
    "#### Solving"
   ]
  },
  {
   "cell_type": "markdown",
   "id": "e6901320",
   "metadata": {},
   "source": [
    "Simply evaluate the expression in the picture (`2**38` which is `274877906944`) and go the html page of the same name."
   ]
  },
  {
   "cell_type": "code",
   "execution_count": null,
   "id": "70a5e03a",
   "metadata": {},
   "outputs": [],
   "source": [
    "solution = 2**38\n",
    "print(\"Solution:\", solution)"
   ]
  },
  {
   "cell_type": "code",
   "execution_count": null,
   "id": "edb6ced9",
   "metadata": {},
   "outputs": [],
   "source": [
    "solution_url = urllib.parse.urljoin(start_url, f\"{solution}.html\")\n",
    "print(\"Solution URL:\", solution_url)"
   ]
  },
  {
   "cell_type": "markdown",
   "id": "01fb3b7f",
   "metadata": {},
   "source": [
    "## Level 1"
   ]
  },
  {
   "cell_type": "markdown",
   "id": "3cca9328",
   "metadata": {},
   "source": [
    "### Setup"
   ]
  },
  {
   "cell_type": "code",
   "execution_count": null,
   "id": "26f296bc",
   "metadata": {},
   "outputs": [],
   "source": [
    "# previous URL soltion (http://www.pythonchallenge.com/pc/def/274877906944.html) redirects here\n",
    "start_url = 'http://www.pythonchallenge.com/pc/def/map.html'"
   ]
  },
  {
   "cell_type": "code",
   "execution_count": null,
   "id": "d061713c",
   "metadata": {},
   "outputs": [],
   "source": [
    "import urllib.parse\n",
    "import requests\n",
    "from bs4 import BeautifulSoup"
   ]
  },
  {
   "cell_type": "code",
   "execution_count": null,
   "id": "e45981a7",
   "metadata": {},
   "outputs": [],
   "source": [
    "r = requests.get(start_url)\n",
    "soup = BeautifulSoup(r.text, 'html.parser')\n",
    "title = soup.find('title').get_text().strip()\n",
    "print(\"Title:\", title)"
   ]
  },
  {
   "cell_type": "markdown",
   "id": "03d41661",
   "metadata": {},
   "source": [
    "### Solution"
   ]
  },
  {
   "cell_type": "markdown",
   "id": "fc999d0c",
   "metadata": {},
   "source": [
    "#### Hint"
   ]
  },
  {
   "cell_type": "code",
   "execution_count": null,
   "id": "40f0ac26",
   "metadata": {},
   "outputs": [],
   "source": [
    "import IPython.display as display"
   ]
  },
  {
   "cell_type": "code",
   "execution_count": null,
   "id": "7c249437",
   "metadata": {},
   "outputs": [],
   "source": [
    "img_url = urllib.parse.urljoin(start_url, soup.find('img')['src'])\n",
    "display.Image(img_url)"
   ]
  },
  {
   "cell_type": "code",
   "execution_count": null,
   "id": "86a3fa86",
   "metadata": {},
   "outputs": [],
   "source": [
    "hint_text = soup.find('font', attrs={'color':'gold'}).get_text().strip()\n",
    "print(hint_text)"
   ]
  },
  {
   "cell_type": "markdown",
   "id": "33f830ad",
   "metadata": {},
   "source": [
    "#### Solving"
   ]
  },
  {
   "cell_type": "markdown",
   "id": "f81e03ae",
   "metadata": {},
   "source": [
    "The image shows a mapping of a few letters in a rot2 ciper, and the text hint says \"think twice\".  \n",
    "Let's apply the rot2 cipher to the cipher text we see.  \n",
    "I use direct `ord` and `chr` math instead of bothering with `maketrans` as the hints suggest."
   ]
  },
  {
   "cell_type": "code",
   "execution_count": null,
   "id": "c2d42a22",
   "metadata": {},
   "outputs": [],
   "source": [
    "cipher_tag = soup.find('font', attrs={'color':'#f000f0'})\n",
    "cipher_text = cipher_tag.get_text().strip()\n",
    "ord_a = ord('a')\n",
    "decipher = lambda s: ''.join(chr((ord(c)-ord_a+2)%26+ord_a) if 0<=ord(c)-ord_a<26 else c for c in s)\n",
    "clear_text = decipher(cipher_text)\n",
    "print(\"Cipher text:\", clear_text)"
   ]
  },
  {
   "cell_type": "markdown",
   "id": "5d5875d6",
   "metadata": {},
   "source": [
    " Applying the rot2 cipher to the url's stem we find the next url to go to."
   ]
  },
  {
   "cell_type": "code",
   "execution_count": null,
   "id": "aa2ccca7",
   "metadata": {},
   "outputs": [],
   "source": [
    "from pathlib import Path\n",
    "cipher_text = Path(start_url).stem\n",
    "solution = decipher(cipher_text)\n",
    "print(\"Solution:\", solution)"
   ]
  },
  {
   "cell_type": "code",
   "execution_count": null,
   "id": "7a030e09",
   "metadata": {},
   "outputs": [],
   "source": [
    "solution_url = urllib.parse.urljoin(start_url, f\"{solution}.html\")\n",
    "print(\"Solution URL:\", solution_url)"
   ]
  },
  {
   "cell_type": "markdown",
   "id": "b670adf5",
   "metadata": {},
   "source": [
    "## Level 2"
   ]
  },
  {
   "cell_type": "markdown",
   "id": "94358bc8",
   "metadata": {},
   "source": [
    "### Setup"
   ]
  },
  {
   "cell_type": "code",
   "execution_count": null,
   "id": "a5f4bf1f",
   "metadata": {},
   "outputs": [],
   "source": [
    "start_url = 'http://www.pythonchallenge.com/pc/def/ocr.html'"
   ]
  },
  {
   "cell_type": "code",
   "execution_count": null,
   "id": "79401a42",
   "metadata": {},
   "outputs": [],
   "source": [
    "import urllib.parse\n",
    "import requests\n",
    "from bs4 import BeautifulSoup, Comment"
   ]
  },
  {
   "cell_type": "code",
   "execution_count": null,
   "id": "bf22b643",
   "metadata": {},
   "outputs": [],
   "source": [
    "r = requests.get(start_url)\n",
    "soup = BeautifulSoup(r.text, 'html.parser')\n",
    "title = soup.find('title').get_text().strip()\n",
    "print(\"Title:\", title)"
   ]
  },
  {
   "cell_type": "markdown",
   "id": "9761f1de",
   "metadata": {},
   "source": [
    "### Solution"
   ]
  },
  {
   "cell_type": "markdown",
   "id": "bb1cab29",
   "metadata": {},
   "source": [
    "Like the hint says, look at the page source, and inside we see comments with ciphertext and another hint suggesting to look for rare characters.  \n",
    "Using Python's `collections.Counter` class we can filer out characters at least as common as the newlines, to get the final result of `\"equality\"`."
   ]
  },
  {
   "cell_type": "code",
   "execution_count": null,
   "id": "3d3c9757",
   "metadata": {},
   "outputs": [],
   "source": [
    "cipher_tag = soup.findAll(text=lambda text:isinstance(text, Comment))[-1]\n",
    "cipher_text = cipher_tag.extract()\n",
    "print(cipher_text)"
   ]
  },
  {
   "cell_type": "code",
   "execution_count": null,
   "id": "bbfa6f5a",
   "metadata": {},
   "outputs": [],
   "source": [
    "from collections import Counter\n",
    "counts = Counter(cipher_text)\n",
    "solution = ''.join(c for c in cipher_text if counts[c]<counts['\\n'])\n",
    "print(\"Solution:\", solution)"
   ]
  },
  {
   "cell_type": "code",
   "execution_count": null,
   "id": "d4ac8bab",
   "metadata": {},
   "outputs": [],
   "source": [
    "solution_url = urllib.parse.urljoin(start_url, f\"{solution}.html\")\n",
    "print(\"Solution URL:\", solution_url)"
   ]
  },
  {
   "cell_type": "markdown",
   "id": "ea3969b8",
   "metadata": {},
   "source": [
    "## Level 3"
   ]
  },
  {
   "cell_type": "markdown",
   "id": "7cd69836",
   "metadata": {},
   "source": [
    "### Setup"
   ]
  },
  {
   "cell_type": "code",
   "execution_count": null,
   "id": "c4577e4b",
   "metadata": {},
   "outputs": [],
   "source": [
    "start_url = 'http://www.pythonchallenge.com/pc/def/equality.html'"
   ]
  },
  {
   "cell_type": "code",
   "execution_count": null,
   "id": "ea4bc961",
   "metadata": {},
   "outputs": [],
   "source": [
    "import urllib.parse\n",
    "import requests\n",
    "from bs4 import BeautifulSoup, Comment"
   ]
  },
  {
   "cell_type": "code",
   "execution_count": null,
   "id": "09e14ec8",
   "metadata": {},
   "outputs": [],
   "source": [
    "r = requests.get(start_url)\n",
    "soup = BeautifulSoup(r.text, 'html.parser')\n",
    "title = soup.find('title').get_text().strip()\n",
    "print(\"Title:\", title)"
   ]
  },
  {
   "cell_type": "markdown",
   "id": "05e800e5",
   "metadata": {},
   "source": [
    "### Solution"
   ]
  },
  {
   "cell_type": "markdown",
   "id": "21550ab0",
   "metadata": {},
   "source": [
    "As the hint says, we're looking for examples of lowercase letters surrounded by exactly 3 upper-case letters in the ciphertext in the comments.  \n",
    "As the title hints at, we can use Python's `re` library to do this.  \n",
    "Watch out for the cases of more than 3 upper-case letters present."
   ]
  },
  {
   "cell_type": "code",
   "execution_count": null,
   "id": "49cc2234",
   "metadata": {},
   "outputs": [],
   "source": [
    "cipher_tag = soup.findAll(text=lambda text:isinstance(text, Comment))[-1]\n",
    "cipher_text = cipher_tag.extract().replace('\\n','')\n",
    "print(cipher_text)"
   ]
  },
  {
   "cell_type": "code",
   "execution_count": null,
   "id": "40c1becd",
   "metadata": {},
   "outputs": [],
   "source": [
    "import re\n",
    "re_expr = r'[a-z][A-Z]{3}([a-z])[A-Z]{3}[a-z]'\n",
    "solution = ''.join(re.findall(re_expr, cipher_text))\n",
    "print(\"Solution:\", solution)"
   ]
  },
  {
   "cell_type": "code",
   "execution_count": null,
   "id": "6c665acc",
   "metadata": {},
   "outputs": [],
   "source": [
    "solution_url = urllib.parse.urljoin(start_url, f\"{solution}.html\")\n",
    "print(\"Solution URL:\", solution_url)"
   ]
  },
  {
   "cell_type": "markdown",
   "id": "20a750cb",
   "metadata": {},
   "source": [
    "## Level 4"
   ]
  },
  {
   "cell_type": "markdown",
   "id": "b7b003fa",
   "metadata": {},
   "source": [
    "### Setup"
   ]
  },
  {
   "cell_type": "code",
   "execution_count": null,
   "id": "17fec967",
   "metadata": {},
   "outputs": [],
   "source": [
    "start_url = 'http://www.pythonchallenge.com/pc/def/linkedlist.html'"
   ]
  },
  {
   "cell_type": "code",
   "execution_count": null,
   "id": "595252bd",
   "metadata": {},
   "outputs": [],
   "source": [
    "import urllib.parse\n",
    "import requests\n",
    "from bs4 import BeautifulSoup, Comment"
   ]
  },
  {
   "cell_type": "code",
   "execution_count": null,
   "id": "4d38e88b",
   "metadata": {},
   "outputs": [],
   "source": [
    "r = requests.get(start_url)\n",
    "print(r.text.strip())\n",
    "next_url = urllib.parse.urljoin(start_url, r.text)\n",
    "print(next_url)"
   ]
  },
  {
   "cell_type": "code",
   "execution_count": null,
   "id": "87887553",
   "metadata": {},
   "outputs": [],
   "source": [
    "r = requests.get(next_url)\n",
    "soup = BeautifulSoup(r.text, 'html.parser')\n",
    "title = soup.find('title').get_text().strip()\n",
    "print(\"Title:\", title)"
   ]
  },
  {
   "cell_type": "markdown",
   "id": "c3cd6a35",
   "metadata": {},
   "source": [
    "### Solution"
   ]
  },
  {
   "cell_type": "markdown",
   "id": "d463b186",
   "metadata": {},
   "source": [
    "When we click the link in the page we arrive at a page with a url parameter \"nothing=12345\" which tells us the \"next nothing\" (44827).  \n",
    "Inserting this value as the url parameter brings us to a new page giving yet another value.  \n",
    "Follow the chain as the title suggests, accounting for a few special cases they throw in."
   ]
  },
  {
   "cell_type": "code",
   "execution_count": null,
   "id": "fcf930ac",
   "metadata": {},
   "outputs": [],
   "source": [
    "next_url = urllib.parse.urljoin(start_url, soup.find('a')['href'])\n",
    "print(next_url)"
   ]
  },
  {
   "cell_type": "code",
   "execution_count": null,
   "id": "ce8db8df",
   "metadata": {
    "scrolled": true
   },
   "outputs": [],
   "source": [
    "nothing = ''\n",
    "for i in range(400):\n",
    "    r = requests.get(next_url, params={'nothing': nothing} if nothing else {}) \n",
    "    print(r.text)\n",
    "    if r.text.strip() == 'Yes. Divide by two and keep going.':\n",
    "        nothing = str(int(nothing)//2)\n",
    "    elif r.text.endswith('.html'):\n",
    "        solution = r.text\n",
    "        break\n",
    "    else:\n",
    "        nothing = r.text.strip().split(' ')[-1]\n",
    "    print(f\"\\tnothing={nothing}\")"
   ]
  },
  {
   "cell_type": "code",
   "execution_count": null,
   "id": "af265ae4",
   "metadata": {},
   "outputs": [],
   "source": [
    "print(\"Solution:\", solution)"
   ]
  },
  {
   "cell_type": "code",
   "execution_count": null,
   "id": "7b816890",
   "metadata": {},
   "outputs": [],
   "source": [
    "solution_url = urllib.parse.urljoin(start_url, solution)\n",
    "print(\"Solution URL:\", solution_url)"
   ]
  },
  {
   "cell_type": "markdown",
   "id": "e4846122",
   "metadata": {},
   "source": [
    "## Level 5"
   ]
  },
  {
   "cell_type": "markdown",
   "id": "eddb19e6",
   "metadata": {},
   "source": [
    "### Setup"
   ]
  },
  {
   "cell_type": "code",
   "execution_count": null,
   "id": "8bec5637",
   "metadata": {},
   "outputs": [],
   "source": [
    "start_url = 'http://www.pythonchallenge.com/pc/def/peak.html'"
   ]
  },
  {
   "cell_type": "code",
   "execution_count": null,
   "id": "10f2539f",
   "metadata": {},
   "outputs": [],
   "source": [
    "import urllib.parse\n",
    "import requests\n",
    "from bs4 import BeautifulSoup"
   ]
  },
  {
   "cell_type": "code",
   "execution_count": null,
   "id": "789abe66",
   "metadata": {},
   "outputs": [],
   "source": [
    "r = requests.get(start_url)\n",
    "soup = BeautifulSoup(r.text, 'html.parser')\n",
    "title = soup.find('title').get_text().strip()\n",
    "print(\"Title:\", title)"
   ]
  },
  {
   "cell_type": "markdown",
   "id": "2a623957",
   "metadata": {},
   "source": [
    "### Solution\n",
    "There is a `peakhell` tag with a src attribute linking to a .p file.  \n",
    "In Python .p files are often used for Pickle files, Python's object serialization format.  \n",
    "If we \"unpickle\" the file we can an array of arrays of tuples, each tuple containing a character and an integer.  \n",
    "Python allows for repeating strings by mutiplying them by an integer, so if we try that and join the strings all together we get an ascii art image showing our solution."
   ]
  },
  {
   "cell_type": "code",
   "execution_count": null,
   "id": "c141a8c2",
   "metadata": {},
   "outputs": [],
   "source": [
    "next_url = urllib.parse.urljoin(start_url, soup.find('peakhell')['src'])\n",
    "print(next_url)"
   ]
  },
  {
   "cell_type": "code",
   "execution_count": null,
   "id": "0b0199de",
   "metadata": {},
   "outputs": [],
   "source": [
    "import pickle"
   ]
  },
  {
   "cell_type": "code",
   "execution_count": null,
   "id": "27403e83",
   "metadata": {},
   "outputs": [],
   "source": [
    "r = requests.get(next_url)\n",
    "p = pickle.loads(r.content)\n",
    "p"
   ]
  },
  {
   "cell_type": "code",
   "execution_count": null,
   "id": "59a9150b",
   "metadata": {},
   "outputs": [],
   "source": [
    "text = '\\n'.join([''.join(c[0]*c[1] for c in l) for l in p])\n",
    "print(text)"
   ]
  },
  {
   "cell_type": "code",
   "execution_count": null,
   "id": "44d8cfe8",
   "metadata": {},
   "outputs": [],
   "source": [
    "solution = 'channel'\n",
    "print(\"Solution:\", solution)"
   ]
  },
  {
   "cell_type": "code",
   "execution_count": null,
   "id": "4ad0087b",
   "metadata": {},
   "outputs": [],
   "source": [
    "solution_url = urllib.parse.urljoin(start_url, f\"{solution}.html\")\n",
    "print(\"Solution URL:\", solution_url)"
   ]
  },
  {
   "cell_type": "markdown",
   "id": "e565a5c0",
   "metadata": {},
   "source": [
    "## Level 6"
   ]
  },
  {
   "cell_type": "markdown",
   "id": "7c6f793a",
   "metadata": {},
   "source": [
    "### Setup"
   ]
  },
  {
   "cell_type": "code",
   "execution_count": null,
   "id": "551e35fd",
   "metadata": {},
   "outputs": [],
   "source": [
    "start_url = 'http://www.pythonchallenge.com/pc/def/channel.html'"
   ]
  },
  {
   "cell_type": "code",
   "execution_count": null,
   "id": "228f8eb9",
   "metadata": {},
   "outputs": [],
   "source": [
    "import urllib.parse\n",
    "import requests\n",
    "from bs4 import BeautifulSoup, Comment"
   ]
  },
  {
   "cell_type": "code",
   "execution_count": null,
   "id": "6fbb31f1",
   "metadata": {},
   "outputs": [],
   "source": [
    "r = requests.get(start_url)\n",
    "soup = BeautifulSoup(r.text, 'html.parser')\n",
    "title = soup.find('title').get_text().strip()\n",
    "print(\"Title:\", title)"
   ]
  },
  {
   "cell_type": "code",
   "execution_count": null,
   "id": "7d05eb34",
   "metadata": {},
   "outputs": [],
   "source": [
    "comment = soup.findAll(text=lambda text:isinstance(text, Comment))[0]\n",
    "print(\"Comment:\", comment)"
   ]
  },
  {
   "cell_type": "markdown",
   "id": "376f8684",
   "metadata": {},
   "source": [
    "### Solution\n",
    "The image of a zipper and the comment `<-- zip` implies we'll be looking a .zip files. So start off by changing the page extension to .zip to download the zip file.  \n",
    "Next use Pyhton's `zipfile` library to explore its contents.  \n",
    "It contains a a readme.txt, so reading that gives us a number to start with, which matches 1 of the other .txt files.  \n",
    "Opening this file gives a \"next nothing\" similar to the Level 4.  \n",
    "Follow the sequence until we get a file telling us \"Collect the comments\".  \n",
    "Taking the zip format's comment for each internal file gives in the same sequence we just proceeded in gives an ascii art saying \"hockey\" but using the letters \"oxygen\" which is our solution."
   ]
  },
  {
   "cell_type": "code",
   "execution_count": null,
   "id": "289bdfa6",
   "metadata": {},
   "outputs": [],
   "source": [
    "from pathlib import Path"
   ]
  },
  {
   "cell_type": "code",
   "execution_count": null,
   "id": "239a129a",
   "metadata": {},
   "outputs": [],
   "source": [
    "stem = Path(start_url).stem\n",
    "filename = stem + \".zip\"\n",
    "new_url = urllib.parse.urljoin(start_url, filename)\n",
    "print(new_url)"
   ]
  },
  {
   "cell_type": "code",
   "execution_count": null,
   "id": "5a6eb42c",
   "metadata": {},
   "outputs": [],
   "source": [
    "import zipfile\n",
    "import io"
   ]
  },
  {
   "cell_type": "code",
   "execution_count": null,
   "id": "e55aef57",
   "metadata": {},
   "outputs": [],
   "source": [
    "r = requests.get(new_url)\n",
    "archive = zipfile.ZipFile(io.BytesIO(r.content), 'r')\n",
    "archive.namelist()"
   ]
  },
  {
   "cell_type": "code",
   "execution_count": null,
   "id": "ab61f712",
   "metadata": {},
   "outputs": [],
   "source": [
    "with archive.open('readme.txt', mode='r') as f:\n",
    "    text = f.read().decode()\n",
    "print(text)"
   ]
  },
  {
   "cell_type": "code",
   "execution_count": null,
   "id": "03464177",
   "metadata": {},
   "outputs": [],
   "source": [
    "nothing = text.splitlines()[-2].split(' ')[-1]\n",
    "print(f\"nothing={nothing}\")"
   ]
  },
  {
   "cell_type": "code",
   "execution_count": null,
   "id": "bfd1ba29",
   "metadata": {},
   "outputs": [],
   "source": [
    "nothings = [nothing]\n",
    "for i in range(len(archive.namelist())):\n",
    "    with archive.open(nothing + '.txt', mode='r') as f:\n",
    "        text = f.read().decode()\n",
    "    print(text)\n",
    "    nothing = text.split(' ')[-1]\n",
    "    if not nothing.isnumeric():\n",
    "        break\n",
    "    nothings.append(nothing)"
   ]
  },
  {
   "cell_type": "code",
   "execution_count": null,
   "id": "da1eafa2",
   "metadata": {},
   "outputs": [],
   "source": [
    "comments = [archive.getinfo(f\"{nothing}.txt\").comment.decode() for nothing in nothings]\n",
    "comments = ''.join(comments)\n",
    "print(comments)"
   ]
  },
  {
   "cell_type": "code",
   "execution_count": null,
   "id": "dce07582",
   "metadata": {},
   "outputs": [],
   "source": [
    "wrong_solution = \"hockey\"\n",
    "wrong_solution_url = urllib.parse.urljoin(start_url, f\"{wrong_solution}.html\")\n",
    "print(wrong_solution_url)"
   ]
  },
  {
   "cell_type": "code",
   "execution_count": null,
   "id": "97eac046",
   "metadata": {},
   "outputs": [],
   "source": [
    "found = set()\n",
    "solution = ''.join([c for c in comments if c.isalpha() and c not in found and (found.add(c) or True)]).lower()"
   ]
  },
  {
   "cell_type": "code",
   "execution_count": null,
   "id": "90defa42",
   "metadata": {},
   "outputs": [],
   "source": [
    "solution_url = urllib.parse.urljoin(start_url, f\"{solution}.html\")\n",
    "print(solution_url)"
   ]
  },
  {
   "cell_type": "markdown",
   "id": "0ae7fda2",
   "metadata": {},
   "source": [
    "## Level 7"
   ]
  },
  {
   "cell_type": "markdown",
   "id": "eb449387",
   "metadata": {},
   "source": [
    "### Setup"
   ]
  },
  {
   "cell_type": "code",
   "execution_count": null,
   "id": "d520bc10",
   "metadata": {},
   "outputs": [],
   "source": [
    "start_url = 'http://www.pythonchallenge.com/pc/def/oxygen.html'"
   ]
  },
  {
   "cell_type": "code",
   "execution_count": null,
   "id": "af92120d",
   "metadata": {},
   "outputs": [],
   "source": [
    "import urllib.parse\n",
    "import requests\n",
    "from bs4 import BeautifulSoup"
   ]
  },
  {
   "cell_type": "code",
   "execution_count": null,
   "id": "4234ae4b",
   "metadata": {},
   "outputs": [],
   "source": [
    "r = requests.get(start_url)\n",
    "soup = BeautifulSoup(r.text, 'html.parser')\n",
    "title = soup.find('title').get_text().strip()\n",
    "print(\"Title:\", title)"
   ]
  },
  {
   "cell_type": "markdown",
   "id": "0f4348c2",
   "metadata": {},
   "source": [
    "### Solution\n",
    "The image we see has a sequence of grey blocks in it.  \n",
    "This implies a sequence of bytes (since the RGB channels are each a byte, and here they'll all be the same).  \n",
    "Using Python `PIL` library to explore the pixel data, we can get the bytes values of the gray blocks by going over the middle pixels in steps of 7.  \n",
    "Decoding the bytes to ascii gives the message \"smart guy, you made it. the next level is [105, 110, 116, 101, 103, 114, 105, 116, 121]\" which we can again convert to ascii giving our final solution."
   ]
  },
  {
   "cell_type": "code",
   "execution_count": null,
   "id": "b9a0d43a",
   "metadata": {},
   "outputs": [],
   "source": [
    "img_url = urllib.parse.urljoin(start_url, soup.find('img')['src'])\n",
    "print(img_url)"
   ]
  },
  {
   "cell_type": "code",
   "execution_count": null,
   "id": "50eea94f",
   "metadata": {},
   "outputs": [],
   "source": [
    "from PIL import Image\n",
    "import io"
   ]
  },
  {
   "cell_type": "code",
   "execution_count": null,
   "id": "66e9248f",
   "metadata": {},
   "outputs": [],
   "source": [
    "r = requests.get(img_url)\n",
    "img = Image.open(io.BytesIO(r.content))\n",
    "img.convert(\"RGB\")"
   ]
  },
  {
   "cell_type": "code",
   "execution_count": null,
   "id": "f8b61ffa",
   "metadata": {},
   "outputs": [],
   "source": [
    "w,h = img.size\n",
    "pxs = []\n",
    "for i in range(0,w,7):\n",
    "    px = img.getpixel((i,h//2))\n",
    "    if px[0] != px[1]: # check we're still working with greyscale\n",
    "        break\n",
    "    pxs.append(px[0])\n",
    "msg = ''.join([chr(px) for px in pxs])\n",
    "print(msg)"
   ]
  },
  {
   "cell_type": "code",
   "execution_count": null,
   "id": "ed439a9e",
   "metadata": {},
   "outputs": [],
   "source": [
    "import re"
   ]
  },
  {
   "cell_type": "code",
   "execution_count": null,
   "id": "a45c4eff",
   "metadata": {},
   "outputs": [],
   "source": [
    "msg2 = list(map(int,re.findall(r'(\\d+)', msg)))\n",
    "solution = ''.join(map(chr, msg2))\n",
    "print(solution)"
   ]
  },
  {
   "cell_type": "code",
   "execution_count": null,
   "id": "8adb95d7",
   "metadata": {},
   "outputs": [],
   "source": [
    "solution_url = urllib.parse.urljoin(start_url, f\"{solution}.html\")\n",
    "print(solution_url)"
   ]
  },
  {
   "cell_type": "markdown",
   "id": "7e1ae4ad",
   "metadata": {},
   "source": [
    "## Level 8"
   ]
  },
  {
   "cell_type": "markdown",
   "id": "971e0aba",
   "metadata": {},
   "source": [
    "### Setup"
   ]
  },
  {
   "cell_type": "code",
   "execution_count": null,
   "id": "34c86ff6",
   "metadata": {},
   "outputs": [],
   "source": [
    "start_url = 'http://www.pythonchallenge.com/pc/def/integrity.html'"
   ]
  },
  {
   "cell_type": "code",
   "execution_count": null,
   "id": "594b8094",
   "metadata": {},
   "outputs": [],
   "source": [
    "import urllib.parse\n",
    "import requests\n",
    "from bs4 import BeautifulSoup, Comment"
   ]
  },
  {
   "cell_type": "code",
   "execution_count": null,
   "id": "382346dd",
   "metadata": {},
   "outputs": [],
   "source": [
    "r = requests.get(start_url)\n",
    "soup = BeautifulSoup(r.text, 'html.parser')\n",
    "title = soup.find('title').get_text().strip()\n",
    "print(\"Title:\", title)"
   ]
  },
  {
   "cell_type": "markdown",
   "id": "8a4e283f",
   "metadata": {},
   "source": [
    "### Solution\n",
    "We have a comment which contains text specifying a \"un\" and \"pw\", sounds like a username and password.  \n",
    "However the values given appear to be defining a byte array in unicode escaped format, so we'll need to decode that first.  \n",
    "The start of the bytes is displayed as BZh9, which is the magic number for the bzip2 file format.  \n",
    "Python comes with a library for this, so let's try to decompress the bytestrings and see what we get.  \n",
    "Sure enough, it's the english text for \"huge\" and \"file\" respectively.\n",
    "Lastly, for the page we need to get to we can see there's a hyperlinked area on the image, which takes us a a page asking for a username and password which we can now provide."
   ]
  },
  {
   "cell_type": "code",
   "execution_count": null,
   "id": "2f51ace7",
   "metadata": {},
   "outputs": [],
   "source": [
    "comment_tag = soup.findAll(text=lambda text:isinstance(text, Comment))[-1]\n",
    "comment_text = comment_tag.extract().strip()\n",
    "print(comment_text)"
   ]
  },
  {
   "cell_type": "code",
   "execution_count": null,
   "id": "80c51762",
   "metadata": {},
   "outputs": [],
   "source": [
    "import re"
   ]
  },
  {
   "cell_type": "code",
   "execution_count": null,
   "id": "5f0938e0",
   "metadata": {},
   "outputs": [],
   "source": [
    "un, pw = comment_text.splitlines()\n",
    "\n",
    "un = re.search(r\"'(.*)'\", un).groups()[0]\n",
    "pw = re.search(r\"'(.*)'\", pw).groups()[0]\n",
    "\n",
    "un = un.encode().decode('unicode_escape').encode('latin-1')\n",
    "pw = pw.encode().decode('unicode_escape').encode('latin-1')\n",
    "\n",
    "un,pw"
   ]
  },
  {
   "cell_type": "code",
   "execution_count": null,
   "id": "e8901e97",
   "metadata": {},
   "outputs": [],
   "source": [
    "import bz2"
   ]
  },
  {
   "cell_type": "code",
   "execution_count": null,
   "id": "4f4f44e2",
   "metadata": {},
   "outputs": [],
   "source": [
    "un_plaintext = bz2.decompress(un).decode()\n",
    "pw_plaintext = bz2.decompress(pw).decode()\n",
    "print(\"un:\", un_plaintext)\n",
    "print(\"pw:\", pw_plaintext)"
   ]
  },
  {
   "cell_type": "code",
   "execution_count": null,
   "id": "e507bdee",
   "metadata": {},
   "outputs": [],
   "source": [
    "solution = soup.find('area')['href']\n",
    "print(solution)"
   ]
  },
  {
   "cell_type": "code",
   "execution_count": null,
   "id": "0b29e68f",
   "metadata": {},
   "outputs": [],
   "source": [
    "solution_url = urllib.parse.urljoin(start_url, solution)\n",
    "print(solution_url)"
   ]
  },
  {
   "cell_type": "markdown",
   "id": "adec9fed",
   "metadata": {},
   "source": [
    "## Level 9"
   ]
  },
  {
   "cell_type": "markdown",
   "id": "3e4205d2",
   "metadata": {},
   "source": [
    "### Setup"
   ]
  },
  {
   "cell_type": "code",
   "execution_count": null,
   "id": "64252d1a",
   "metadata": {},
   "outputs": [],
   "source": [
    "start_url = 'http://www.pythonchallenge.com/pc/return/good.html'\n",
    "username = 'huge'\n",
    "password = 'file'"
   ]
  },
  {
   "cell_type": "code",
   "execution_count": null,
   "id": "d92b2488",
   "metadata": {},
   "outputs": [],
   "source": [
    "import urllib.parse\n",
    "import requests\n",
    "from bs4 import BeautifulSoup, Comment"
   ]
  },
  {
   "cell_type": "code",
   "execution_count": null,
   "id": "1d90625c",
   "metadata": {},
   "outputs": [],
   "source": [
    "auth = requests.auth.HTTPBasicAuth(username, password)\n",
    "r = requests.get(start_url, auth=auth)\n",
    "soup = BeautifulSoup(r.text, 'html.parser')\n",
    "title = soup.find('title').get_text().strip()\n",
    "print(\"Title:\", title)"
   ]
  },
  {
   "cell_type": "markdown",
   "id": "0d9a4d98",
   "metadata": {},
   "source": [
    "### Solution\n",
    "The title is \"connect the dots\" an in page's source contains 2 lists of positive integers, which implies we should use them to draw lines in a connect-the-dots puzzle styles. The image also alludes to this.  \n",
    "The 2 lists are not equal in length to eachother, however they do both have an even number of entries: this imples how we should parse them and that there will be 2 parts to the drawing.  \n",
    "We can use Python `PIL` library `line` function to easily do the drawing for us.  \n",
    "At the end we get a picture which looks a bull, which is our solution."
   ]
  },
  {
   "cell_type": "code",
   "execution_count": null,
   "id": "c86728a3",
   "metadata": {},
   "outputs": [],
   "source": [
    "comment_tag = soup.findAll(text=lambda text:isinstance(text, Comment))[-1]\n",
    "comment_text = comment_tag.extract().strip()\n",
    "print(comment_text)"
   ]
  },
  {
   "cell_type": "code",
   "execution_count": null,
   "id": "bc308689",
   "metadata": {},
   "outputs": [],
   "source": [
    "import re"
   ]
  },
  {
   "cell_type": "code",
   "execution_count": null,
   "id": "667b23a6",
   "metadata": {},
   "outputs": [],
   "source": [
    "_,first,second = comment_text.split('\\n\\n')\n",
    "\n",
    "first = re.findall(r'\\d+', first)\n",
    "second = re.findall(r'\\d+', second)\n",
    "\n",
    "first = list(map(int,first))\n",
    "second = list(map(int,second))\n",
    "\n",
    "first = list(zip(first[::2], first[1::2]))\n",
    "second = list(zip(second[::2], second[1::2]))"
   ]
  },
  {
   "cell_type": "code",
   "execution_count": null,
   "id": "46f799d7",
   "metadata": {},
   "outputs": [],
   "source": [
    "first_x_min = min([p[0] for p in first])\n",
    "first_x_max = max([p[0] for p in first])\n",
    "first_y_min = min([p[1] for p in first])\n",
    "first_y_max = max([p[1] for p in first])\n",
    "print(f\"first {len(first)} points: ({first_x_min}, {first_y_min}) - ({first_x_max}, {first_y_max})\")\n",
    "\n",
    "second_x_min = min([p[0] for p in second])\n",
    "second_x_max = max([p[0] for p in second])\n",
    "second_y_min = min([p[1] for p in second])\n",
    "second_y_max = max([p[1] for p in second])\n",
    "print(f\"second {len(second)} points: ({second_x_min}, {second_y_min}) - ({second_x_max}, {second_y_max})\")\n",
    "\n",
    "x_max = max(first_x_max, second_x_max)\n",
    "y_max = max(first_y_max, second_y_max)"
   ]
  },
  {
   "cell_type": "code",
   "execution_count": null,
   "id": "b5c739e0",
   "metadata": {},
   "outputs": [],
   "source": [
    "from PIL import Image, ImageDraw"
   ]
  },
  {
   "cell_type": "code",
   "execution_count": null,
   "id": "d038a8ef",
   "metadata": {},
   "outputs": [],
   "source": [
    "img = Image.new('L', (x_max+1, y_max+1))\n",
    "draw_obj = ImageDraw.Draw(img)"
   ]
  },
  {
   "cell_type": "code",
   "execution_count": null,
   "id": "8d79becf",
   "metadata": {},
   "outputs": [],
   "source": [
    "draw_obj.line(first, fill=(255,))\n",
    "draw_obj.line(second, fill=(255,))\n",
    "img"
   ]
  },
  {
   "cell_type": "code",
   "execution_count": null,
   "id": "b7aa8768",
   "metadata": {},
   "outputs": [],
   "source": [
    "solution = \"bull\"\n",
    "print(\"Solution:\", solution)"
   ]
  },
  {
   "cell_type": "code",
   "execution_count": null,
   "id": "c9b02094",
   "metadata": {},
   "outputs": [],
   "source": [
    "solution_url = urllib.parse.urljoin(start_url, f\"{solution}.html\")\n",
    "print(solution_url)"
   ]
  },
  {
   "cell_type": "markdown",
   "id": "69878057",
   "metadata": {},
   "source": [
    "## Level 10"
   ]
  },
  {
   "cell_type": "markdown",
   "id": "f0fbeb93",
   "metadata": {},
   "source": [
    "### Setup"
   ]
  },
  {
   "cell_type": "code",
   "execution_count": null,
   "id": "4755df59",
   "metadata": {},
   "outputs": [],
   "source": [
    "start_url = 'http://www.pythonchallenge.com/pc/return/bull.html'\n",
    "username = 'huge'\n",
    "password = 'file'"
   ]
  },
  {
   "cell_type": "code",
   "execution_count": null,
   "id": "4e6b8958",
   "metadata": {},
   "outputs": [],
   "source": [
    "import urllib.parse\n",
    "import requests\n",
    "from bs4 import BeautifulSoup, Comment"
   ]
  },
  {
   "cell_type": "code",
   "execution_count": null,
   "id": "a33dd6f0",
   "metadata": {},
   "outputs": [],
   "source": [
    "auth = requests.auth.HTTPBasicAuth(username, password)\n",
    "r = requests.get(start_url, auth=auth)\n",
    "soup = BeautifulSoup(r.text, 'html.parser')\n",
    "title = soup.find('title').get_text().strip()\n",
    "print(\"Title:\", title)"
   ]
  },
  {
   "cell_type": "code",
   "execution_count": null,
   "id": "df98b89d",
   "metadata": {},
   "outputs": [],
   "source": [
    "hint_text = soup.find('font', attrs={'color':'gold'}).get_text().strip()\n",
    "print(hint_text)"
   ]
  },
  {
   "cell_type": "markdown",
   "id": "16edb4d0",
   "metadata": {},
   "source": [
    "### Solution\n",
    "The page's text refer's to the length of an element of a list.  \n",
    "Clicking the image gives a 'sequence.txt' file, which simply contains `a = [1, 11, 21, 1211, 111221,`  \n",
    "This gives the definition of the list we're looking for, so we need to figure out the pattern to continue it.  \n",
    "The sequence given is the classic [look-and-say sequence](https://en.wikipedia.org/wiki/Look-and-say_sequence).  \n",
    "If it's not immediately recognized one can search it up on the [Online Encyclopedia of Integer Sequences](https://oeis.org/A005150).  \n",
    "From here one has to just write the code to implement the sequence as it can get quite long.  \n",
    "The calculation should keep the elements as strings, since that's what's important.  \n",
    "Getting the length of the 30th element gives the solution."
   ]
  },
  {
   "cell_type": "code",
   "execution_count": null,
   "id": "1ee1d0aa",
   "metadata": {},
   "outputs": [],
   "source": [
    "new_url = urllib.parse.urljoin(start_url, soup.find('area')['href'])\n",
    "print(new_url)"
   ]
  },
  {
   "cell_type": "code",
   "execution_count": null,
   "id": "38778088",
   "metadata": {},
   "outputs": [],
   "source": [
    "r = requests.get(new_url, auth=auth)\n",
    "sequence_txt = r.text.strip()\n",
    "print(sequence_txt)"
   ]
  },
  {
   "cell_type": "code",
   "execution_count": null,
   "id": "fd325389",
   "metadata": {},
   "outputs": [],
   "source": [
    "a = ['1']\n",
    "for i in range(30):\n",
    "    a.append('')\n",
    "    curr_count = 0 \n",
    "    l = len(a[-2])\n",
    "    for j in range(l):\n",
    "        curr_count += 1\n",
    "        if j == l-1 or a[-2][j] != a[-2][j+1]:\n",
    "            a[-1] += f\"{curr_count}{a[-2][j]}\"\n",
    "            curr_count = 0\n",
    "\n",
    "print(a)"
   ]
  },
  {
   "cell_type": "code",
   "execution_count": null,
   "id": "dda33f34",
   "metadata": {},
   "outputs": [],
   "source": [
    "solution = len(a[30])\n",
    "print(solution)"
   ]
  },
  {
   "cell_type": "code",
   "execution_count": null,
   "id": "9a5bbe14",
   "metadata": {},
   "outputs": [],
   "source": [
    "solution_url = urllib.parse.urljoin(start_url, f\"{solution}.html\")\n",
    "print(solution_url)"
   ]
  },
  {
   "cell_type": "markdown",
   "id": "a80e93c1",
   "metadata": {},
   "source": [
    "## Level 11"
   ]
  },
  {
   "cell_type": "markdown",
   "id": "c9ff54ad",
   "metadata": {},
   "source": [
    "### Setup"
   ]
  },
  {
   "cell_type": "code",
   "execution_count": null,
   "id": "87b965c0",
   "metadata": {},
   "outputs": [],
   "source": [
    "start_url = 'http://www.pythonchallenge.com/pc/return/5808.html'\n",
    "username = 'huge'\n",
    "password = 'file'"
   ]
  },
  {
   "cell_type": "code",
   "execution_count": null,
   "id": "7c74d894",
   "metadata": {},
   "outputs": [],
   "source": [
    "import urllib.parse\n",
    "import requests\n",
    "from bs4 import BeautifulSoup"
   ]
  },
  {
   "cell_type": "code",
   "execution_count": null,
   "id": "6cf1a5b7",
   "metadata": {},
   "outputs": [],
   "source": [
    "auth = requests.auth.HTTPBasicAuth(username, password)\n",
    "r = requests.get(start_url, auth=auth)\n",
    "soup = BeautifulSoup(r.text, 'html.parser')\n",
    "title = soup.find('title').get_text().strip()\n",
    "print(\"Title:\", title)"
   ]
  },
  {
   "cell_type": "markdown",
   "id": "84513286",
   "metadata": {},
   "source": [
    "### Solution\n",
    "The title is odd even, and the only other thing we have is a blurry image.  \n",
    "Perhaps the image is more than 1 image, interwoven?  \n",
    "We can quickly unweave the pixels by converting the image to a numpy array and then indexing.  \n",
    "When we look at the images we get we can faintly see text on a dark background on the 2 corresponding to all even and odd pixels along both axes.  \n",
    "We can increase the contrast to see the text better, making out the word 'evil' which is our solution."
   ]
  },
  {
   "cell_type": "code",
   "execution_count": null,
   "id": "109099f1",
   "metadata": {},
   "outputs": [],
   "source": [
    "img_url = urllib.parse.urljoin(start_url, soup.find('img')['src'])\n",
    "print(img_url)"
   ]
  },
  {
   "cell_type": "code",
   "execution_count": null,
   "id": "eb06589d",
   "metadata": {},
   "outputs": [],
   "source": [
    "from PIL import Image, ImageEnhance\n",
    "import io"
   ]
  },
  {
   "cell_type": "code",
   "execution_count": null,
   "id": "cdbc36ed",
   "metadata": {},
   "outputs": [],
   "source": [
    "r = requests.get(img_url, auth=auth)\n",
    "img = Image.open(io.BytesIO(r.content))\n",
    "print(img.size)\n",
    "img.convert(\"RGB\")"
   ]
  },
  {
   "cell_type": "code",
   "execution_count": null,
   "id": "0ebea47f",
   "metadata": {},
   "outputs": [],
   "source": [
    "import numpy as np"
   ]
  },
  {
   "cell_type": "code",
   "execution_count": null,
   "id": "39e7d3de",
   "metadata": {},
   "outputs": [],
   "source": [
    "img_arr = np.array(img)\n",
    "\n",
    "images = []\n",
    "for i,iname in [(0,'even'), (1,'odd')]:\n",
    "    for j,jname in [(0,'even'), (1,'odd')]:\n",
    "        images.append((f\"{iname}{jname}\", Image.fromarray(img_arr[i::2,j::2,:])))"
   ]
  },
  {
   "cell_type": "code",
   "execution_count": null,
   "id": "979ff592",
   "metadata": {},
   "outputs": [],
   "source": [
    "print(images[0][0])\n",
    "images[0][1]"
   ]
  },
  {
   "cell_type": "code",
   "execution_count": null,
   "id": "15871169",
   "metadata": {},
   "outputs": [],
   "source": [
    "ImageEnhance.Contrast(images[0][1]).enhance(4)"
   ]
  },
  {
   "cell_type": "code",
   "execution_count": null,
   "id": "6489909f",
   "metadata": {},
   "outputs": [],
   "source": [
    "solution = 'evil'\n",
    "print(solution)"
   ]
  },
  {
   "cell_type": "code",
   "execution_count": null,
   "id": "3f5f1aca",
   "metadata": {},
   "outputs": [],
   "source": [
    "solution_url = urllib.parse.urljoin(start_url, f\"{solution}.html\")\n",
    "print(solution_url)"
   ]
  },
  {
   "cell_type": "markdown",
   "id": "47eadca3",
   "metadata": {},
   "source": [
    "## Level 12"
   ]
  },
  {
   "cell_type": "markdown",
   "id": "a6deaf16",
   "metadata": {},
   "source": [
    "### Setup"
   ]
  },
  {
   "cell_type": "code",
   "execution_count": null,
   "id": "73abe2f3",
   "metadata": {},
   "outputs": [],
   "source": [
    "start_url = 'http://www.pythonchallenge.com/pc/return/evil.html'\n",
    "username = 'huge'\n",
    "password = 'file'"
   ]
  },
  {
   "cell_type": "code",
   "execution_count": null,
   "id": "81d92e39",
   "metadata": {},
   "outputs": [],
   "source": [
    "import urllib.parse\n",
    "import requests\n",
    "from bs4 import BeautifulSoup"
   ]
  },
  {
   "cell_type": "code",
   "execution_count": null,
   "id": "1a318793",
   "metadata": {},
   "outputs": [],
   "source": [
    "auth = requests.auth.HTTPBasicAuth(username, password)\n",
    "r = requests.get(start_url, auth=auth)\n",
    "soup = BeautifulSoup(r.text, 'html.parser')\n",
    "title = soup.find('title').get_text().strip()\n",
    "print(\"Title:\", title)"
   ]
  },
  {
   "cell_type": "markdown",
   "id": "40840892",
   "metadata": {},
   "source": [
    "### Solution\n",
    "The title is \"dealing evil\" and we have an image called \"evil1.jpg\" showing cards being dealt to 5 piles.  \n",
    "If we look for other \"evil\" .jpg files we find there are indeed 1-4, though the 3rd tries to mislead us saying there are no more.  \n",
    "The 4th is not actually a jpg, but a text saying \"Bert is evil! go back!\". Going to bert.html gives a secret page.  \n",
    "The 2nd says to use .gfx instead of .jpg, and indeed evil2.gfx gives us a file, which seems to be thoroughly corrupted.  \n",
    "Dealing each of the bytes into 5 different images gives us 5 images: a jpeg showing the text \"dis\", a png showing the text \"\"pro, a gif showing the text \"port\", another png showing the text \"ional\", and another jpeg showing the text \"ity\" crossed out.  \n",
    "Putting them all together except for the crossed out one gives 'disproportional' the solution.  "
   ]
  },
  {
   "cell_type": "code",
   "execution_count": null,
   "id": "ffaf4278",
   "metadata": {},
   "outputs": [],
   "source": [
    "filename = soup.find('img')['src']\n",
    "img_url = urllib.parse.urljoin(start_url, filename)\n",
    "print(img_url)"
   ]
  },
  {
   "cell_type": "code",
   "execution_count": null,
   "id": "49a05093",
   "metadata": {},
   "outputs": [],
   "source": [
    "from PIL import Image, ImageFile\n",
    "import io"
   ]
  },
  {
   "cell_type": "code",
   "execution_count": null,
   "id": "a52d3741",
   "metadata": {},
   "outputs": [],
   "source": [
    "r = requests.get(img_url, auth=auth)\n",
    "img = Image.open(io.BytesIO(r.content))\n",
    "img.convert(\"RGB\")"
   ]
  },
  {
   "cell_type": "code",
   "execution_count": null,
   "id": "9f9e8614",
   "metadata": {},
   "outputs": [],
   "source": [
    "import re"
   ]
  },
  {
   "cell_type": "code",
   "execution_count": null,
   "id": "00bca861",
   "metadata": {},
   "outputs": [],
   "source": [
    "import IPython.display as display"
   ]
  },
  {
   "cell_type": "code",
   "execution_count": null,
   "id": "3544f4a2",
   "metadata": {},
   "outputs": [],
   "source": [
    "images = []\n",
    "for i in range(1,4+1):\n",
    "    filename = re.sub(r'\\d', str(i), filename)\n",
    "    img_url = urllib.parse.urljoin(start_url, filename)\n",
    "    print(img_url)\n",
    "    r = requests.get(img_url, auth=auth)\n",
    "    if r.content[:3] == b'\\xFF\\xD8\\xFF':  # check if it is indeed a jpg\n",
    "        images.append(r.content)\n",
    "        display.display(display.Image(images[-1]))\n",
    "    else:\n",
    "        print(r.text)"
   ]
  },
  {
   "cell_type": "code",
   "execution_count": null,
   "id": "261ec55b",
   "metadata": {},
   "outputs": [],
   "source": [
    "secret_url = urllib.parse.urljoin(start_url, \"bert.html\")\n",
    "print(\"Secret:\", secret_url)"
   ]
  },
  {
   "cell_type": "code",
   "execution_count": null,
   "id": "a3b10dc2",
   "metadata": {},
   "outputs": [],
   "source": [
    "from pathlib import Path"
   ]
  },
  {
   "cell_type": "code",
   "execution_count": null,
   "id": "0156bf51",
   "metadata": {},
   "outputs": [],
   "source": [
    "filename = re.sub(r'\\d', '2', filename)\n",
    "stem = Path(filename).stem\n",
    "filename = f\"{stem}.gfx\"\n",
    "next_url = urllib.parse.urljoin(start_url, filename)\n",
    "print(next_url)"
   ]
  },
  {
   "cell_type": "code",
   "execution_count": null,
   "id": "23298378",
   "metadata": {},
   "outputs": [],
   "source": [
    "r = requests.get(next_url, auth=auth)\n",
    "data = r.content"
   ]
  },
  {
   "cell_type": "code",
   "execution_count": null,
   "id": "d18e9468",
   "metadata": {},
   "outputs": [],
   "source": [
    "ImageFile.LOAD_TRUNCATED_IMAGES = True"
   ]
  },
  {
   "cell_type": "code",
   "execution_count": null,
   "id": "7d36754d",
   "metadata": {
    "scrolled": false
   },
   "outputs": [],
   "source": [
    "for i in range(5):\n",
    "    img = Image.open(io.BytesIO(data[i::5]))\n",
    "    print(f\"Turn: {i+1}, format: {img.format.lower()}\")\n",
    "    imgfile = io.BytesIO()\n",
    "    img.save(imgfile, format=img.format.lower())\n",
    "    display.display(display.Image(imgfile.getvalue()))"
   ]
  },
  {
   "cell_type": "code",
   "execution_count": null,
   "id": "1b8015f0",
   "metadata": {},
   "outputs": [],
   "source": [
    "solution = 'disproportional'\n",
    "print(solution)"
   ]
  },
  {
   "cell_type": "code",
   "execution_count": null,
   "id": "b21dca38",
   "metadata": {},
   "outputs": [],
   "source": [
    "solution_url = urllib.parse.urljoin(start_url, f\"{solution}.html\")\n",
    "print(solution_url)"
   ]
  },
  {
   "cell_type": "markdown",
   "id": "387726ae",
   "metadata": {},
   "source": [
    "## Level 13"
   ]
  },
  {
   "cell_type": "markdown",
   "id": "7643af63",
   "metadata": {},
   "source": [
    "### Setup"
   ]
  },
  {
   "cell_type": "code",
   "execution_count": null,
   "id": "0659d8da",
   "metadata": {},
   "outputs": [],
   "source": [
    "start_url = 'http://www.pythonchallenge.com/pc/return/disproportional.html'\n",
    "username = 'huge'\n",
    "password = 'file'"
   ]
  },
  {
   "cell_type": "code",
   "execution_count": null,
   "id": "45df1923",
   "metadata": {},
   "outputs": [],
   "source": [
    "import urllib.parse\n",
    "import requests\n",
    "from bs4 import BeautifulSoup"
   ]
  },
  {
   "cell_type": "code",
   "execution_count": null,
   "id": "d5f1a5e9",
   "metadata": {},
   "outputs": [],
   "source": [
    "auth = requests.auth.HTTPBasicAuth(username, password)\n",
    "r = requests.get(start_url, auth=auth)\n",
    "soup = BeautifulSoup(r.text, 'html.parser')\n",
    "title = soup.find('title').get_text().strip()\n",
    "print(\"Title:\", title)"
   ]
  },
  {
   "cell_type": "code",
   "execution_count": null,
   "id": "a3f09f7e",
   "metadata": {},
   "outputs": [],
   "source": [
    "hint_text = soup.find('body').get_text().strip()\n",
    "print(hint_text)"
   ]
  },
  {
   "cell_type": "markdown",
   "id": "36b175a0",
   "metadata": {},
   "source": [
    "### Solution\n",
    "The title says \"call him\" and the page says \"phone that evil\". (Checking the HTML it says \"remote\" as a tag)  \n",
    "The image has a linked area on the 5 to a phonebook.php page which gives a \"empty document\" XML.  \n",
    "The hints of \"calling\", \"remote\" and XML imply a XML-RPC (remote procedure call).  \n",
    "Python has an xmlrpc library we can use for this purpose, opening a client to the phonebook.php address.  \n",
    "Firstly cehcking the list of methods we see there is a \"phone\" method with a sinature that takes a string and returns a string, described as \"Returns the phone of a person\".  \n",
    "Since we are supposed to \"call that evil\" and \"call him\", and we previously saw the message \"bert is evil\", we should try \"Bert\" (need to capitalize).  \n",
    "This returns the phone number \"555-ITALY\", with \"italy\" being our solution."
   ]
  },
  {
   "cell_type": "code",
   "execution_count": null,
   "id": "3e63369a",
   "metadata": {},
   "outputs": [],
   "source": [
    "filename = soup.find('area')['href']\n",
    "next_url = urllib.parse.urljoin(start_url, filename)\n",
    "print(next_url)"
   ]
  },
  {
   "cell_type": "code",
   "execution_count": null,
   "id": "e9d109b2",
   "metadata": {},
   "outputs": [],
   "source": [
    "import xmlrpc.client"
   ]
  },
  {
   "cell_type": "code",
   "execution_count": null,
   "id": "2a3bf2e9",
   "metadata": {},
   "outputs": [],
   "source": [
    "client = xmlrpc.client.ServerProxy(next_url)\n",
    "methods = client.system.listMethods()\n",
    "print(methods)"
   ]
  },
  {
   "cell_type": "code",
   "execution_count": null,
   "id": "7855ddea",
   "metadata": {},
   "outputs": [],
   "source": [
    "method = methods[0]\n",
    "print(method)\n",
    "print(client.system.methodSignature(method))\n",
    "print(client.system.methodHelp(method))"
   ]
  },
  {
   "cell_type": "code",
   "execution_count": null,
   "id": "48bfe3cf",
   "metadata": {},
   "outputs": [],
   "source": [
    "msg = getattr(client, method)('Bert')\n",
    "print(msg)"
   ]
  },
  {
   "cell_type": "code",
   "execution_count": null,
   "id": "c7e5f2e6",
   "metadata": {},
   "outputs": [],
   "source": [
    "solution = msg.split('-')[-1].lower()\n",
    "print(solution)"
   ]
  },
  {
   "cell_type": "code",
   "execution_count": null,
   "id": "df9335db",
   "metadata": {},
   "outputs": [],
   "source": [
    "solution_url = urllib.parse.urljoin(start_url, f\"{solution}.html\")\n",
    "print(solution_url)"
   ]
  },
  {
   "cell_type": "code",
   "execution_count": null,
   "id": "615d026f",
   "metadata": {},
   "outputs": [],
   "source": []
  }
 ],
 "metadata": {
  "kernelspec": {
   "display_name": "Python 3",
   "language": "python",
   "name": "python3"
  },
  "language_info": {
   "codemirror_mode": {
    "name": "ipython",
    "version": 3
   },
   "file_extension": ".py",
   "mimetype": "text/x-python",
   "name": "python",
   "nbconvert_exporter": "python",
   "pygments_lexer": "ipython3",
   "version": "3.11.4"
  }
 },
 "nbformat": 4,
 "nbformat_minor": 5
}
