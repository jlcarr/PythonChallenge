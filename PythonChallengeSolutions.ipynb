{
 "cells": [
  {
   "cell_type": "markdown",
   "id": "88bfbed7",
   "metadata": {},
   "source": [
    "# Python Challenge Solution\n",
    "Solutions to Python Challenge problems in Python3.  \n",
    "Link here: http://www.pythonchallenge.com/"
   ]
  },
  {
   "cell_type": "markdown",
   "id": "3e6495c3",
   "metadata": {},
   "source": [
    "## Level 0"
   ]
  },
  {
   "cell_type": "markdown",
   "id": "1320e579",
   "metadata": {},
   "source": [
    "### Setup"
   ]
  },
  {
   "cell_type": "code",
   "execution_count": null,
   "id": "5a69d277",
   "metadata": {},
   "outputs": [],
   "source": [
    "start_url = 'http://www.pythonchallenge.com/pc/def/0.html'"
   ]
  },
  {
   "cell_type": "code",
   "execution_count": null,
   "id": "b7ff9d34",
   "metadata": {},
   "outputs": [],
   "source": [
    "import urllib.parse\n",
    "import requests\n",
    "from bs4 import BeautifulSoup"
   ]
  },
  {
   "cell_type": "code",
   "execution_count": null,
   "id": "412aa217",
   "metadata": {},
   "outputs": [],
   "source": [
    "r = requests.get(start_url)\n",
    "soup = BeautifulSoup(r.text, 'html.parser')\n",
    "title = soup.find('title').get_text().strip()\n",
    "print(\"Title:\", title)"
   ]
  },
  {
   "cell_type": "markdown",
   "id": "022c1e4a",
   "metadata": {},
   "source": [
    "### Solution"
   ]
  },
  {
   "cell_type": "markdown",
   "id": "08dd43ad",
   "metadata": {},
   "source": [
    "#### Hint"
   ]
  },
  {
   "cell_type": "code",
   "execution_count": null,
   "id": "7bf56fcc",
   "metadata": {},
   "outputs": [],
   "source": [
    "import IPython.display as display"
   ]
  },
  {
   "cell_type": "code",
   "execution_count": null,
   "id": "dc878ef1",
   "metadata": {},
   "outputs": [],
   "source": [
    "img_url = urllib.parse.urljoin(start_url, soup.find('img')['src'])\n",
    "display.Image(img_url)"
   ]
  },
  {
   "cell_type": "markdown",
   "id": "3c64024e",
   "metadata": {},
   "source": [
    "#### Solving"
   ]
  },
  {
   "cell_type": "markdown",
   "id": "58090f30",
   "metadata": {},
   "source": [
    "Simply evaluate the expression in the picture (`2**38` which is `274877906944`) and go the html page of the same name."
   ]
  },
  {
   "cell_type": "code",
   "execution_count": null,
   "id": "dc52cfe1",
   "metadata": {},
   "outputs": [],
   "source": [
    "solution = 2**38\n",
    "print(\"Solution:\", solution)"
   ]
  },
  {
   "cell_type": "code",
   "execution_count": null,
   "id": "d8d9e046",
   "metadata": {},
   "outputs": [],
   "source": [
    "solution_url = urllib.parse.urljoin(start_url, f\"{solution}.html\")\n",
    "print(\"Solution URL:\", solution_url)"
   ]
  },
  {
   "cell_type": "markdown",
   "id": "ddfb0eb5",
   "metadata": {},
   "source": [
    "## Level 1"
   ]
  },
  {
   "cell_type": "markdown",
   "id": "c9e2e3e8",
   "metadata": {},
   "source": [
    "### Setup"
   ]
  },
  {
   "cell_type": "code",
   "execution_count": null,
   "id": "b40d1276",
   "metadata": {},
   "outputs": [],
   "source": [
    "# previous URL soltion (http://www.pythonchallenge.com/pc/def/274877906944.html) redirects here\n",
    "start_url = 'http://www.pythonchallenge.com/pc/def/map.html'"
   ]
  },
  {
   "cell_type": "code",
   "execution_count": null,
   "id": "9b79d7f5",
   "metadata": {},
   "outputs": [],
   "source": [
    "import urllib.parse\n",
    "import requests\n",
    "from bs4 import BeautifulSoup"
   ]
  },
  {
   "cell_type": "code",
   "execution_count": null,
   "id": "c66cbbe9",
   "metadata": {},
   "outputs": [],
   "source": [
    "r = requests.get(start_url)\n",
    "soup = BeautifulSoup(r.text, 'html.parser')\n",
    "title = soup.find('title').get_text().strip()\n",
    "print(\"Title:\", title)"
   ]
  },
  {
   "cell_type": "markdown",
   "id": "8f1313a1",
   "metadata": {},
   "source": [
    "### Solution"
   ]
  },
  {
   "cell_type": "markdown",
   "id": "c17ce717",
   "metadata": {},
   "source": [
    "#### Hint"
   ]
  },
  {
   "cell_type": "code",
   "execution_count": null,
   "id": "3962209a",
   "metadata": {},
   "outputs": [],
   "source": [
    "import IPython.display as display"
   ]
  },
  {
   "cell_type": "code",
   "execution_count": null,
   "id": "5104b95a",
   "metadata": {},
   "outputs": [],
   "source": [
    "img_url = urllib.parse.urljoin(start_url, soup.find('img')['src'])\n",
    "display.Image(img_url)"
   ]
  },
  {
   "cell_type": "code",
   "execution_count": null,
   "id": "6ed4df7e",
   "metadata": {},
   "outputs": [],
   "source": [
    "hint_text = soup.find('font', attrs={'color':'gold'}).get_text().strip()\n",
    "print(hint_text)"
   ]
  },
  {
   "cell_type": "markdown",
   "id": "258a5ee5",
   "metadata": {},
   "source": [
    "#### Solving"
   ]
  },
  {
   "cell_type": "markdown",
   "id": "3afb5272",
   "metadata": {},
   "source": [
    "The image shows a mapping of a few letters in a rot2 ciper, and the text hint says \"think twice\".  \n",
    "Let's apply the rot2 cipher to the cipher text we see.  \n",
    "I use direct `ord` and `chr` math instead of bothering with `maketrans` as the hints suggest."
   ]
  },
  {
   "cell_type": "code",
   "execution_count": null,
   "id": "3c6a431f",
   "metadata": {},
   "outputs": [],
   "source": [
    "cipher_tag = soup.find('font', attrs={'color':'#f000f0'})\n",
    "cipher_text = cipher_tag.get_text().strip()\n",
    "ord_a = ord('a')\n",
    "decipher = lambda s: ''.join(chr((ord(c)-ord_a+2)%26+ord_a) if 0<=ord(c)-ord_a<26 else c for c in s)\n",
    "clear_text = decipher(cipher_text)\n",
    "print(\"Cipher text:\", clear_text)"
   ]
  },
  {
   "cell_type": "markdown",
   "id": "9b341263",
   "metadata": {},
   "source": [
    " Applying the rot2 cipher to the url's stem we find the next url to go to."
   ]
  },
  {
   "cell_type": "code",
   "execution_count": null,
   "id": "a0bcff43",
   "metadata": {},
   "outputs": [],
   "source": [
    "from pathlib import Path\n",
    "cipher_text = Path(start_url).stem\n",
    "solution = decipher(cipher_text)\n",
    "print(\"Solution:\", solution)"
   ]
  },
  {
   "cell_type": "code",
   "execution_count": null,
   "id": "c62b8e78",
   "metadata": {},
   "outputs": [],
   "source": [
    "solution_url = urllib.parse.urljoin(start_url, f\"{solution}.html\")\n",
    "print(\"Solution URL:\", solution_url)"
   ]
  },
  {
   "cell_type": "markdown",
   "id": "c97a6ca4",
   "metadata": {},
   "source": [
    "## Level 2"
   ]
  },
  {
   "cell_type": "markdown",
   "id": "9f3f39c8",
   "metadata": {},
   "source": [
    "### Setup"
   ]
  },
  {
   "cell_type": "code",
   "execution_count": null,
   "id": "fe108110",
   "metadata": {},
   "outputs": [],
   "source": [
    "start_url = 'http://www.pythonchallenge.com/pc/def/ocr.html'"
   ]
  },
  {
   "cell_type": "code",
   "execution_count": null,
   "id": "d91a845f",
   "metadata": {},
   "outputs": [],
   "source": [
    "import urllib.parse\n",
    "import requests\n",
    "from bs4 import BeautifulSoup, Comment"
   ]
  },
  {
   "cell_type": "code",
   "execution_count": null,
   "id": "c209fafc",
   "metadata": {},
   "outputs": [],
   "source": [
    "r = requests.get(start_url)\n",
    "soup = BeautifulSoup(r.text, 'html.parser')\n",
    "title = soup.find('title').get_text().strip()\n",
    "print(\"Title:\", title)"
   ]
  },
  {
   "cell_type": "markdown",
   "id": "3319f6c6",
   "metadata": {},
   "source": [
    "### Solution"
   ]
  },
  {
   "cell_type": "markdown",
   "id": "57aa9de5",
   "metadata": {},
   "source": [
    "Like the hint says, look at the page source, and inside we see comments with ciphertext and another hint suggesting to look for rare characters. Using Python's `collections.Counter` class we can filer out characters at least as common as the newlines, to get the final result of `\"equality\"`."
   ]
  },
  {
   "cell_type": "code",
   "execution_count": null,
   "id": "165775e7",
   "metadata": {},
   "outputs": [],
   "source": [
    "cipher_tag = soup.findAll(text=lambda text:isinstance(text, Comment))[-1]\n",
    "cipher_text = cipher_tag.extract()\n",
    "\n",
    "from collections import Counter\n",
    "counts = Counter(cipher_text)\n",
    "solution = ''.join(c for c in cipher_text if counts[c]<counts['\\n'])\n",
    "print(\"Solution:\", solution)"
   ]
  },
  {
   "cell_type": "code",
   "execution_count": null,
   "id": "24d070d1",
   "metadata": {},
   "outputs": [],
   "source": [
    "solution_url = urllib.parse.urljoin(start_url, f\"{solution}.html\")\n",
    "print(\"Solution URL:\", solution_url)"
   ]
  },
  {
   "cell_type": "markdown",
   "id": "cc536759",
   "metadata": {},
   "source": [
    "## Level 3"
   ]
  },
  {
   "cell_type": "code",
   "execution_count": null,
   "id": "bb375aae",
   "metadata": {},
   "outputs": [],
   "source": []
  }
 ],
 "metadata": {
  "kernelspec": {
   "display_name": "Python 3",
   "language": "python",
   "name": "python3"
  },
  "language_info": {
   "codemirror_mode": {
    "name": "ipython",
    "version": 3
   },
   "file_extension": ".py",
   "mimetype": "text/x-python",
   "name": "python",
   "nbconvert_exporter": "python",
   "pygments_lexer": "ipython3",
   "version": "3.11.1"
  }
 },
 "nbformat": 4,
 "nbformat_minor": 5
}
